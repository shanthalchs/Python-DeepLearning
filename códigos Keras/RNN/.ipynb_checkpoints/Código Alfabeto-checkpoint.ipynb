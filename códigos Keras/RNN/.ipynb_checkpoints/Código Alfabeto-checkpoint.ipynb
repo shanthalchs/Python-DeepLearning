{
 "cells": [
  {
   "cell_type": "code",
   "execution_count": 2,
   "metadata": {},
   "outputs": [],
   "source": [
    "import numpy\n",
    "from keras.models import Sequential\n",
    "from keras.layers import Dense\n",
    "from keras.layers import LSTM\n",
    "from keras.utils import np_utils\n",
    "\n",
    "numpy.random.seed(7)"
   ]
  },
  {
   "cell_type": "markdown",
   "metadata": {},
   "source": [
    "__Definimos el alfabeto__"
   ]
  },
  {
   "cell_type": "code",
   "execution_count": 4,
   "metadata": {},
   "outputs": [],
   "source": [
    "alfabeto = \"ABCDEFGHIJKLMNOPQRSTUVWXYZ\""
   ]
  },
  {
   "cell_type": "markdown",
   "metadata": {},
   "source": [
    "__Creamos diccionario__"
   ]
  },
  {
   "cell_type": "code",
   "execution_count": null,
   "metadata": {},
   "outputs": [],
   "source": [
    "# crear mapeo de caracteres a números enteros (0-25) y viceversa\n",
    "char_to_int = dict((c, i) for i, c in enumerate(alfabeto))\n",
    "int_to_char = dict((i, c) for i, c in enumerate(alfabeto))"
   ]
  },
  {
   "cell_type": "markdown",
   "metadata": {},
   "source": [
    "__Creamos los datos de entrada__"
   ]
  },
  {
   "cell_type": "code",
   "execution_count": 15,
   "metadata": {},
   "outputs": [
    {
     "name": "stdout",
     "output_type": "stream",
     "text": [
      "Y -&amp;gt; Z\n"
     ]
    }
   ],
   "source": [
    "seq_length = 1\n",
    "X = []\n",
    "Y = []\n",
    "\n",
    "for i in range(0, len(alfabeto) - seq_length):\n",
    "    seq_in = alfabeto[i:i + seq_length]\n",
    "    seq_out = alfabeto[i + seq_length]\n",
    "    X.append([char_to_int[char] for char in seq_in])\n",
    "    Y.append(char_to_int[seq_out])\n",
    "print(seq_in, '-&amp;gt;', seq_out)"
   ]
  },
  {
   "cell_type": "code",
   "execution_count": 12,
   "metadata": {},
   "outputs": [
    {
     "data": {
      "text/plain": [
       "26"
      ]
     },
     "execution_count": 12,
     "metadata": {},
     "output_type": "execute_result"
    }
   ],
   "source": []
  }
 ],
 "metadata": {
  "kernelspec": {
   "display_name": "Python 3",
   "language": "python",
   "name": "python3"
  },
  "language_info": {
   "codemirror_mode": {
    "name": "ipython",
    "version": 3
   },
   "file_extension": ".py",
   "mimetype": "text/x-python",
   "name": "python",
   "nbconvert_exporter": "python",
   "pygments_lexer": "ipython3",
   "version": "3.8.5"
  }
 },
 "nbformat": 4,
 "nbformat_minor": 4
}
